{
 "cells": [
  {
   "cell_type": "code",
   "execution_count": 1,
   "metadata": {},
   "outputs": [],
   "source": [
    "import pickle\n",
    "import pandas as pd\n",
    "X = pd.read_pickle('trainX.pickle')\n",
    "y = pd.read_pickle('trainY.pickle')"
   ]
  },
  {
   "cell_type": "code",
   "execution_count": 2,
   "metadata": {},
   "outputs": [
    {
     "name": "stdout",
     "output_type": "stream",
     "text": [
      "(60000, 28, 28)\n",
      "(60000,)\n"
     ]
    }
   ],
   "source": [
    "print(X.shape)\n",
    "print(y.shape)"
   ]
  },
  {
   "cell_type": "code",
   "execution_count": 3,
   "metadata": {},
   "outputs": [
    {
     "name": "stderr",
     "output_type": "stream",
     "text": [
      "Using TensorFlow backend.\n"
     ]
    }
   ],
   "source": [
    "import keras\n",
    "from keras.datasets import mnist\n",
    "from keras.models import Sequential\n",
    "from keras.layers import Dense,Dropout,Flatten,Activation\n",
    "from keras import backend as K"
   ]
  },
  {
   "cell_type": "code",
   "execution_count": 4,
   "metadata": {},
   "outputs": [
    {
     "data": {
      "image/png": "[encoded data removed]",
      "text/plain": [
       "<Figure size 432x288 with 1 Axes>"
      ]
     },
     "metadata": {
      "needs_background": "light"
     },
     "output_type": "display_data"
    },
    {
     "name": "stdout",
     "output_type": "stream",
     "text": [
      "(28, 28)\n"
     ]
    }
   ],
   "source": [
    "import matplotlib.pyplot as plt\n",
    "%matplotlib inline\n",
    "\n",
    "img = X[0]\n",
    "plt.imshow(img)\n",
    "plt.show()\n",
    "print(img.shape)"
   ]
  },
  {
   "cell_type": "markdown",
   "metadata": {},
   "source": [
    "#pre-processing"
   ]
  },
  {
   "cell_type": "code",
   "execution_count": 5,
   "metadata": {},
   "outputs": [],
   "source": [
    "img_rows,img_cols=28,28"
   ]
  },
  {
   "cell_type": "code",
   "execution_count": 6,
   "metadata": {},
   "outputs": [],
   "source": [
    "batch_size=120\n",
    "num_classes=10\n",
    "epochs=25"
   ]
  },
  {
   "cell_type": "code",
   "execution_count": 7,
   "metadata": {},
   "outputs": [],
   "source": [
    "from sklearn.model_selection import train_test_split\n",
    "X_train, X_test, y_train, y_test = train_test_split(X, y, test_size=0.2)"
   ]
  },
  {
   "cell_type": "code",
   "execution_count": 8,
   "metadata": {},
   "outputs": [],
   "source": [
    "X_train=X_train.reshape(X_train.shape[0],img_rows,img_cols,1)\n",
    "X_test=X_test.reshape(X_test.shape[0],img_rows,img_cols,1)\n",
    "input_shape=(img_rows,img_cols,1)"
   ]
  },
  {
   "cell_type": "code",
   "execution_count": 9,
   "metadata": {},
   "outputs": [],
   "source": [
    "X_train = X_train.astype('float32')\n",
    "X_train /= 255\n",
    "X_test=X_test.astype('float32')\n",
    "X_test/=255"
   ]
  },
  {
   "cell_type": "code",
   "execution_count": 10,
   "metadata": {},
   "outputs": [
    {
     "name": "stdout",
     "output_type": "stream",
     "text": [
      "x_train shape  (48000, 28, 28, 1)\n",
      "48000 train samples\n",
      "12000 test samples\n"
     ]
    }
   ],
   "source": [
    "y_train = keras.utils.to_categorical(y_train, num_classes)\n",
    "y_test = keras.utils.to_categorical(y_test, num_classes)\n",
    "print('x_train shape ', X_train.shape)\n",
    "print(X_train.shape[0], 'train samples')\n",
    "print(X_test.shape[0], 'test samples')"
   ]
  },
  {
   "cell_type": "code",
   "execution_count": 11,
   "metadata": {},
   "outputs": [],
   "source": [
    "X_train=X_train.reshape(48000,784)\n",
    "X_test=X_test.reshape(12000,784)"
   ]
  },
  {
   "cell_type": "code",
   "execution_count": 12,
   "metadata": {},
   "outputs": [
    {
     "name": "stderr",
     "output_type": "stream",
     "text": [
      "WARNING: Logging before flag parsing goes to stderr.\n",
      "W0623 11:02:03.205559 11128 deprecation_wrapper.py:119] From c:\\users\\puni\\appdata\\local\\programs\\python\\python37\\lib\\site-packages\\keras\\backend\\tensorflow_backend.py:74: The name tf.get_default_graph is deprecated. Please use tf.compat.v1.get_default_graph instead.\n",
      "\n",
      "W0623 11:02:03.841955 11128 deprecation_wrapper.py:119] From c:\\users\\puni\\appdata\\local\\programs\\python\\python37\\lib\\site-packages\\keras\\backend\\tensorflow_backend.py:517: The name tf.placeholder is deprecated. Please use tf.compat.v1.placeholder instead.\n",
      "\n",
      "W0623 11:02:03.841955 11128 deprecation_wrapper.py:119] From c:\\users\\puni\\appdata\\local\\programs\\python\\python37\\lib\\site-packages\\keras\\backend\\tensorflow_backend.py:4138: The name tf.random_uniform is deprecated. Please use tf.random.uniform instead.\n",
      "\n",
      "W0623 11:02:03.958408 11128 deprecation_wrapper.py:119] From c:\\users\\puni\\appdata\\local\\programs\\python\\python37\\lib\\site-packages\\keras\\optimizers.py:790: The name tf.train.Optimizer is deprecated. Please use tf.compat.v1.train.Optimizer instead.\n",
      "\n",
      "W0623 11:02:03.979245 11128 deprecation_wrapper.py:119] From c:\\users\\puni\\appdata\\local\\programs\\python\\python37\\lib\\site-packages\\keras\\backend\\tensorflow_backend.py:3295: The name tf.log is deprecated. Please use tf.math.log instead.\n",
      "\n"
     ]
    },
    {
     "name": "stdout",
     "output_type": "stream",
     "text": [
      "_________________________________________________________________\n",
      "Layer (type)                 Output Shape              Param #   \n",
      "=================================================================\n",
      "dense_1 (Dense)              (None, 500)               392500    \n",
      "_________________________________________________________________\n",
      "activation_1 (Activation)    (None, 500)               0         \n",
      "_________________________________________________________________\n",
      "dense_2 (Dense)              (None, 300)               150300    \n",
      "_________________________________________________________________\n",
      "activation_2 (Activation)    (None, 300)               0         \n",
      "_________________________________________________________________\n",
      "dense_3 (Dense)              (None, 10)                3010      \n",
      "_________________________________________________________________\n",
      "activation_3 (Activation)    (None, 10)                0         \n",
      "=================================================================\n",
      "Total params: 545,810\n",
      "Trainable params: 545,810\n",
      "Non-trainable params: 0\n",
      "_________________________________________________________________\n"
     ]
    }
   ],
   "source": [
    "model = Sequential()\n",
    "model.add(Dense(500,input_dim=784),)\n",
    "model.add(Activation('relu'))\n",
    "# model.add(Dropout(0.4))\n",
    "model.add(Dense(300))\n",
    "model.add(Activation('relu'))\n",
    "# model.add(Dropout(0.4))\n",
    "model.add(Dense(10))\n",
    "model.add(Activation('softmax'))\n",
    "model.summary()\n",
    "model.compile(loss=keras.losses.categorical_crossentropy,\n",
    "             optimizer=keras.optimizers.Adadelta(),\n",
    "             metrics = ['accuracy'])"
   ]
  },
  {
   "cell_type": "code",
   "execution_count": 13,
   "metadata": {},
   "outputs": [
    {
     "name": "stderr",
     "output_type": "stream",
     "text": [
      "W0623 11:02:09.213339 11128 deprecation.py:323] From c:\\users\\puni\\appdata\\local\\programs\\python\\python37\\lib\\site-packages\\tensorflow\\python\\ops\\math_grad.py:1250: add_dispatch_support.<locals>.wrapper (from tensorflow.python.ops.array_ops) is deprecated and will be removed in a future version.\n",
      "Instructions for updating:\n",
      "Use tf.where in 2.0, which has the same broadcast rule as np.where\n",
      "W0623 11:02:09.387815 11128 deprecation_wrapper.py:119] From c:\\users\\puni\\appdata\\local\\programs\\python\\python37\\lib\\site-packages\\keras\\backend\\tensorflow_backend.py:986: The name tf.assign_add is deprecated. Please use tf.compat.v1.assign_add instead.\n",
      "\n"
     ]
    },
    {
     "name": "stdout",
     "output_type": "stream",
     "text": [
      "Train on 48000 samples, validate on 12000 samples\n",
      "Epoch 1/25\n",
      "48000/48000 [==============================] - 19s 388us/step - loss: 0.5875 - acc: 0.7861 - val_loss: 0.4101 - val_acc: 0.8486\n",
      "Epoch 2/25\n",
      "48000/48000 [==============================] - 16s 340us/step - loss: 0.4000 - acc: 0.8531 - val_loss: 0.3621 - val_acc: 0.8688\n",
      "Epoch 3/25\n",
      "48000/48000 [==============================] - 15s 321us/step - loss: 0.3565 - acc: 0.8672 - val_loss: 0.3513 - val_acc: 0.8668\n",
      "Epoch 4/25\n",
      "48000/48000 [==============================] - 15s 309us/step - loss: 0.3274 - acc: 0.8791 - val_loss: 0.3378 - val_acc: 0.8750\n",
      "Epoch 5/25\n",
      "48000/48000 [==============================] - 15s 319us/step - loss: 0.3050 - acc: 0.8853 - val_loss: 0.3341 - val_acc: 0.8777\n",
      "Epoch 6/25\n",
      "48000/48000 [==============================] - 15s 318us/step - loss: 0.2860 - acc: 0.8935 - val_loss: 0.3147 - val_acc: 0.8869\n",
      "Epoch 7/25\n",
      "48000/48000 [==============================] - 14s 294us/step - loss: 0.2710 - acc: 0.8972 - val_loss: 0.3059 - val_acc: 0.8871\n",
      "Epoch 8/25\n",
      "48000/48000 [==============================] - 16s 328us/step - loss: 0.2578 - acc: 0.9036 - val_loss: 0.3131 - val_acc: 0.8889\n",
      "Epoch 9/25\n",
      "48000/48000 [==============================] - 15s 305us/step - loss: 0.2450 - acc: 0.9072 - val_loss: 0.3383 - val_acc: 0.8793\n",
      "Epoch 10/25\n",
      "48000/48000 [==============================] - 14s 288us/step - loss: 0.2351 - acc: 0.9098 - val_loss: 0.2938 - val_acc: 0.8953\n",
      "Epoch 11/25\n",
      "48000/48000 [==============================] - 16s 337us/step - loss: 0.2256 - acc: 0.9137 - val_loss: 0.2908 - val_acc: 0.8970\n",
      "Epoch 12/25\n",
      "48000/48000 [==============================] - 14s 302us/step - loss: 0.2126 - acc: 0.9194 - val_loss: 0.3218 - val_acc: 0.8883\n",
      "Epoch 13/25\n",
      "48000/48000 [==============================] - 14s 293us/step - loss: 0.2047 - acc: 0.9211 - val_loss: 0.3443 - val_acc: 0.8814\n",
      "Epoch 14/25\n",
      "48000/48000 [==============================] - 14s 297us/step - loss: 0.1979 - acc: 0.9255 - val_loss: 0.2789 - val_acc: 0.9044\n",
      "Epoch 15/25\n",
      "48000/48000 [==============================] - 15s 321us/step - loss: 0.1889 - acc: 0.9290 - val_loss: 0.3249 - val_acc: 0.8918\n",
      "Epoch 16/25\n",
      "48000/48000 [==============================] - 15s 318us/step - loss: 0.1824 - acc: 0.9300 - val_loss: 0.2991 - val_acc: 0.9015\n",
      "Epoch 17/25\n",
      "48000/48000 [==============================] - 16s 323us/step - loss: 0.1739 - acc: 0.9334 - val_loss: 0.2983 - val_acc: 0.8978\n",
      "Epoch 18/25\n",
      "48000/48000 [==============================] - 15s 304us/step - loss: 0.1673 - acc: 0.9354 - val_loss: 0.3107 - val_acc: 0.9022\n",
      "Epoch 19/25\n",
      "48000/48000 [==============================] - 14s 302us/step - loss: 0.1631 - acc: 0.9379 - val_loss: 0.3090 - val_acc: 0.9018\n",
      "Epoch 20/25\n",
      "48000/48000 [==============================] - 15s 313us/step - loss: 0.1566 - acc: 0.9397 - val_loss: 0.3196 - val_acc: 0.8984\n",
      "Epoch 21/25\n",
      "48000/48000 [==============================] - 15s 309us/step - loss: 0.1496 - acc: 0.9430 - val_loss: 0.3176 - val_acc: 0.9035\n",
      "Epoch 22/25\n",
      "48000/48000 [==============================] - 15s 320us/step - loss: 0.1437 - acc: 0.9450 - val_loss: 0.3516 - val_acc: 0.8968\n",
      "Epoch 23/25\n",
      "48000/48000 [==============================] - 15s 320us/step - loss: 0.1399 - acc: 0.9460 - val_loss: 0.3190 - val_acc: 0.9014\n",
      "Epoch 24/25\n",
      "48000/48000 [==============================] - 16s 341us/step - loss: 0.1340 - acc: 0.9489 - val_loss: 0.3218 - val_acc: 0.9047\n",
      "Epoch 25/25\n",
      "48000/48000 [==============================] - 15s 314us/step - loss: 0.1293 - acc: 0.9504 - val_loss: 0.3475 - val_acc: 0.9013\n",
      "Test loss: 0.34751572118699553\n",
      "Test accuracy: 0.9013333333333333\n"
     ]
    }
   ],
   "source": [
    "model.fit(X_train,y_train,batch_size=batch_size,epochs=epochs,verbose=1,validation_data=(X_test,y_test))\n",
    "score=model.evaluate(X_test,y_test,verbose=0)\n",
    "print(\"Test loss:\",score[0])\n",
    "print(\"Test accuracy:\",score[1])"
   ]
  },
  {
   "cell_type": "markdown",
   "metadata": {},
   "source": [
    "# CNN model"
   ]
  },
  {
   "cell_type": "code",
   "execution_count": 14,
   "metadata": {},
   "outputs": [],
   "source": [
    "from sklearn.model_selection import train_test_split\n",
    "X_train, X_test, y_train, y_test = train_test_split(X, y, test_size=0.2)"
   ]
  },
  {
   "cell_type": "code",
   "execution_count": 15,
   "metadata": {},
   "outputs": [],
   "source": [
    "X_train=X_train.reshape(X_train.shape[0],img_rows,img_cols,1)\n",
    "X_test=X_test.reshape(X_test.shape[0],img_rows,img_cols,1)\n",
    "input_shape=(img_rows,img_cols,1)"
   ]
  },
  {
   "cell_type": "code",
   "execution_count": 16,
   "metadata": {},
   "outputs": [
    {
     "name": "stdout",
     "output_type": "stream",
     "text": [
      "x_train shape  (48000, 28, 28, 1)\n",
      "48000 train samples\n",
      "12000 test samples\n"
     ]
    }
   ],
   "source": [
    "X_train = X_train.astype('float32')\n",
    "X_train /= 255\n",
    "X_test=X_test.astype('float32')\n",
    "X_test/=255\n",
    "y_train = keras.utils.to_categorical(y_train, num_classes)\n",
    "y_test = keras.utils.to_categorical(y_test, num_classes)\n",
    "print('x_train shape ', X_train.shape)\n",
    "print(X_train.shape[0], 'train samples')\n",
    "print(X_test.shape[0], 'test samples')"
   ]
  },
  {
   "cell_type": "code",
   "execution_count": 17,
   "metadata": {},
   "outputs": [],
   "source": [
    "from keras.layers import Dense, Flatten, Conv2D, Dropout, MaxPooling2D"
   ]
  },
  {
   "cell_type": "code",
   "execution_count": 18,
   "metadata": {},
   "outputs": [
    {
     "name": "stderr",
     "output_type": "stream",
     "text": [
      "W0623 11:08:50.489667 11128 deprecation_wrapper.py:119] From c:\\users\\puni\\appdata\\local\\programs\\python\\python37\\lib\\site-packages\\keras\\backend\\tensorflow_backend.py:3976: The name tf.nn.max_pool is deprecated. Please use tf.nn.max_pool2d instead.\n",
      "\n"
     ]
    },
    {
     "name": "stdout",
     "output_type": "stream",
     "text": [
      "_________________________________________________________________\n",
      "Layer (type)                 Output Shape              Param #   \n",
      "=================================================================\n",
      "conv2d_1 (Conv2D)            (None, 26, 26, 32)        320       \n",
      "_________________________________________________________________\n",
      "max_pooling2d_1 (MaxPooling2 (None, 13, 13, 32)        0         \n",
      "_________________________________________________________________\n",
      "conv2d_2 (Conv2D)            (None, 11, 11, 64)        18496     \n",
      "_________________________________________________________________\n",
      "max_pooling2d_2 (MaxPooling2 (None, 5, 5, 64)          0         \n",
      "_________________________________________________________________\n",
      "conv2d_3 (Conv2D)            (None, 3, 3, 128)         73856     \n",
      "_________________________________________________________________\n",
      "flatten_1 (Flatten)          (None, 1152)              0         \n",
      "_________________________________________________________________\n",
      "dense_4 (Dense)              (None, 128)               147584    \n",
      "_________________________________________________________________\n",
      "dense_5 (Dense)              (None, 10)                1290      \n",
      "=================================================================\n",
      "Total params: 241,546\n",
      "Trainable params: 241,546\n",
      "Non-trainable params: 0\n",
      "_________________________________________________________________\n"
     ]
    }
   ],
   "source": [
    "model = Sequential()\n",
    "# Add convolution 2D\n",
    "model.add(Conv2D(32, kernel_size=(3, 3),\n",
    "                 activation='relu',\n",
    "                 kernel_initializer='he_normal',\n",
    "                 input_shape=(img_rows, img_cols, 1)))\n",
    "model.add(MaxPooling2D((2, 2)))\n",
    "model.add(Conv2D(64, \n",
    "                 kernel_size=(3, 3), \n",
    "                 activation='relu'))\n",
    "model.add(MaxPooling2D(pool_size=(2, 2)))\n",
    "model.add(Conv2D(128, (3, 3), activation='relu'))\n",
    "model.add(Flatten())\n",
    "model.add(Dense(128, activation='relu'))\n",
    "model.add(Dense(num_classes, activation='softmax'))\n",
    "\n",
    "\n",
    "model.compile(loss=keras.losses.categorical_crossentropy,\n",
    "              optimizer='adam',\n",
    "              metrics=['accuracy'])\n",
    "model.summary()"
   ]
  },
  {
   "cell_type": "code",
   "execution_count": 19,
   "metadata": {},
   "outputs": [
    {
     "name": "stdout",
     "output_type": "stream",
     "text": [
      "Train on 48000 samples, validate on 12000 samples\n",
      "Epoch 1/25\n",
      "48000/48000 [==============================] - 78s 2ms/step - loss: 0.5359 - acc: 0.8036 - val_loss: 0.3585 - val_acc: 0.8697\n",
      "Epoch 2/25\n",
      "48000/48000 [==============================] - 72s 2ms/step - loss: 0.3439 - acc: 0.8736 - val_loss: 0.3288 - val_acc: 0.8751\n",
      "Epoch 3/25\n",
      "48000/48000 [==============================] - 69s 1ms/step - loss: 0.2945 - acc: 0.8924 - val_loss: 0.2799 - val_acc: 0.8970\n",
      "Epoch 4/25\n",
      "48000/48000 [==============================] - 69s 1ms/step - loss: 0.2638 - acc: 0.9023 - val_loss: 0.2637 - val_acc: 0.9069\n",
      "Epoch 5/25\n",
      "48000/48000 [==============================] - 71s 1ms/step - loss: 0.2392 - acc: 0.9115 - val_loss: 0.2677 - val_acc: 0.9037\n",
      "Epoch 6/25\n",
      "48000/48000 [==============================] - 71s 1ms/step - loss: 0.2181 - acc: 0.9191 - val_loss: 0.2535 - val_acc: 0.9069\n",
      "Epoch 7/25\n",
      "48000/48000 [==============================] - 70s 1ms/step - loss: 0.1980 - acc: 0.9263 - val_loss: 0.2408 - val_acc: 0.9148\n",
      "Epoch 8/25\n",
      "48000/48000 [==============================] - 70s 1ms/step - loss: 0.1788 - acc: 0.9334 - val_loss: 0.2849 - val_acc: 0.9044\n",
      "Epoch 9/25\n",
      "48000/48000 [==============================] - 71s 1ms/step - loss: 0.1638 - acc: 0.9387 - val_loss: 0.2680 - val_acc: 0.9082\n",
      "Epoch 10/25\n",
      "48000/48000 [==============================] - 74s 2ms/step - loss: 0.1471 - acc: 0.9455 - val_loss: 0.2603 - val_acc: 0.9112\n",
      "Epoch 11/25\n",
      "48000/48000 [==============================] - 71s 1ms/step - loss: 0.1314 - acc: 0.9502 - val_loss: 0.2687 - val_acc: 0.9111\n",
      "Epoch 12/25\n",
      "48000/48000 [==============================] - 72s 1ms/step - loss: 0.1195 - acc: 0.9558 - val_loss: 0.2796 - val_acc: 0.9107\n",
      "Epoch 13/25\n",
      "48000/48000 [==============================] - 69s 1ms/step - loss: 0.1024 - acc: 0.9616 - val_loss: 0.2874 - val_acc: 0.9125\n",
      "Epoch 14/25\n",
      "48000/48000 [==============================] - 69s 1ms/step - loss: 0.0919 - acc: 0.9657 - val_loss: 0.3103 - val_acc: 0.9108\n",
      "Epoch 15/25\n",
      "48000/48000 [==============================] - 68s 1ms/step - loss: 0.0830 - acc: 0.9691 - val_loss: 0.3190 - val_acc: 0.9138\n",
      "Epoch 16/25\n",
      "48000/48000 [==============================] - 69s 1ms/step - loss: 0.0801 - acc: 0.9697 - val_loss: 0.3349 - val_acc: 0.9093\n",
      "Epoch 17/25\n",
      "48000/48000 [==============================] - 69s 1ms/step - loss: 0.0678 - acc: 0.9747 - val_loss: 0.3475 - val_acc: 0.9149\n",
      "Epoch 18/25\n",
      "48000/48000 [==============================] - 70s 1ms/step - loss: 0.0651 - acc: 0.9758 - val_loss: 0.3397 - val_acc: 0.9161\n",
      "Epoch 19/25\n",
      "48000/48000 [==============================] - 69s 1ms/step - loss: 0.0511 - acc: 0.9810 - val_loss: 0.3638 - val_acc: 0.9133\n",
      "Epoch 20/25\n",
      "48000/48000 [==============================] - 69s 1ms/step - loss: 0.0493 - acc: 0.9815 - val_loss: 0.3731 - val_acc: 0.9155\n",
      "Epoch 21/25\n",
      "48000/48000 [==============================] - 69s 1ms/step - loss: 0.0415 - acc: 0.9848 - val_loss: 0.4002 - val_acc: 0.9165\n",
      "Epoch 22/25\n",
      "48000/48000 [==============================] - 69s 1ms/step - loss: 0.0436 - acc: 0.9833 - val_loss: 0.4138 - val_acc: 0.9109\n",
      "Epoch 23/25\n",
      "48000/48000 [==============================] - 69s 1ms/step - loss: 0.0383 - acc: 0.9857 - val_loss: 0.4529 - val_acc: 0.9124\n",
      "Epoch 24/25\n",
      "48000/48000 [==============================] - 72s 2ms/step - loss: 0.0379 - acc: 0.9861 - val_loss: 0.4637 - val_acc: 0.9132\n",
      "Epoch 25/25\n",
      "48000/48000 [==============================] - 74s 2ms/step - loss: 0.0366 - acc: 0.9868 - val_loss: 0.4453 - val_acc: 0.9130\n",
      "Test loss: 0.4453360798944098\n",
      "Test accuracy: 0.913\n"
     ]
    }
   ],
   "source": [
    "model.fit(X_train,y_train,batch_size=batch_size,epochs=epochs,verbose=1,validation_data=(X_test,y_test))\n",
    "score=model.evaluate(X_test,y_test,verbose=0)\n",
    "print(\"Test loss:\",score[0])\n",
    "print(\"Test accuracy:\",score[1])"
   ]
  },
  {
   "cell_type": "code",
   "execution_count": 20,
   "metadata": {},
   "outputs": [
    {
     "name": "stdout",
     "output_type": "stream",
     "text": [
      "Test loss: 0.4453360798944098\n",
      "Test accuracy: 0.913\n"
     ]
    }
   ],
   "source": [
    "print(\"Test loss:\",score[0])\n",
    "print(\"Test accuracy:\",score[1])"
   ]
  },
  {
   "cell_type": "code",
   "execution_count": 21,
   "metadata": {},
   "outputs": [],
   "source": [
    "test=pd.read_pickle(\"testX.pickle\")"
   ]
  },
  {
   "cell_type": "code",
   "execution_count": 22,
   "metadata": {},
   "outputs": [
    {
     "data": {
      "image/png": "[encoded data removed]",
      "text/plain": [
       "<Figure size 432x288 with 1 Axes>"
      ]
     },
     "metadata": {
      "needs_background": "light"
     },
     "output_type": "display_data"
    }
   ],
   "source": [
    "plt.imshow(test[0])\n",
    "plt.show()"
   ]
  },
  {
   "cell_type": "code",
   "execution_count": 23,
   "metadata": {},
   "outputs": [],
   "source": [
    "X_test=test\n",
    "X_test=X_test.reshape(X_test.shape[0],img_rows,img_cols,1)\n",
    "X_test=X_test.astype('float32')\n",
    "X_test/=255"
   ]
  },
  {
   "cell_type": "code",
   "execution_count": 24,
   "metadata": {},
   "outputs": [
    {
     "data": {
      "text/plain": [
       "array([9, 2, 1, ..., 8, 1, 5], dtype=int64)"
      ]
     },
     "execution_count": 24,
     "metadata": {},
     "output_type": "execute_result"
    }
   ],
   "source": [
    "predictions = model.predict_classes([X_test])\n",
    "predictions"
   ]
  },
  {
   "cell_type": "code",
   "execution_count": 25,
   "metadata": {},
   "outputs": [
    {
     "data": {
      "text/plain": [
       "array([0, 1, 2, 3, 4, 5, 6, 7, 8, 9], dtype=int64)"
      ]
     },
     "execution_count": 25,
     "metadata": {},
     "output_type": "execute_result"
    }
   ],
   "source": [
    "import numpy as np\n",
    "np.unique(predictions)"
   ]
  },
  {
   "cell_type": "code",
   "execution_count": 26,
   "metadata": {},
   "outputs": [],
   "source": [
    "file=open(\"results.pickle\",\"wb\")\n",
    "pickle.dump(predictions, file)"
   ]
  },
  {
   "cell_type": "code",
   "execution_count": null,
   "metadata": {},
   "outputs": [],
   "source": []
  },
  {
   "cell_type": "code",
   "execution_count": null,
   "metadata": {},
   "outputs": [],
   "source": []
  }
 ],
 "metadata": {
  "kernelspec": {
   "display_name": "Python 3",
   "language": "python",
   "name": "python3"
  },
  "language_info": {
   "codemirror_mode": {
    "name": "ipython",
    "version": 3
   },
   "file_extension": ".py",
   "mimetype": "text/x-python",
   "name": "python",
   "nbconvert_exporter": "python",
   "pygments_lexer": "ipython3",
   "version": "3.7.3"
  }
 },
 "nbformat": 4,
 "nbformat_minor": 2
}
